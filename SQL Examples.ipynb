{
 "cells": [
  {
   "cell_type": "markdown",
   "metadata": {},
   "source": [
    "# SQL Examples\n",
    "## How to compute a month's profit\n",
    "```SQL\n",
    "select sum(Quantity * Profit) as MayProfit\n",
    "    from (select ProductID, Quantity\n",
    "        from Orders\n",
    "        where Month(OrderDate) = 5 and Year(OrderDate)= 2016 ) a\n",
    "        inner join\n",
    "        (select ProductID, Price-Cost as Profit\n",
    "        from Product) b\n",
    "    on a.ProductID = b.ProductID\n",
    "```\n",
    "\n",
    "## List the email and full name of the top 10 customers with most profit\n",
    "\n",
    "```SQL\n",
    "select FullName, Email\n",
    "    from Customer\n",
    "    where CustomerID in (\n",
    "        select b.CustomerID\n",
    "        from (\n",
    "            select top 10 a.CustomerID, sum(a.Quantity* p.Price) as Total\n",
    "            from (\n",
    "                select customerid, productid, Quantity \n",
    "                from Orders o\n",
    "                where Month(OrderDate) = 5 and Year(OrderDate) = 2016 \n",
    "           ) a\n",
    "           inner join Product p\n",
    "           on a.ProductID = p.ProductID\n",
    "           group by a.CustomerID\n",
    "           order by Total DESC\n",
    "        ) b\n",
    "        )\n",
    "        \n",
    "```\n",
    "\n",
    "## Top 10 Customers with Most orders\n",
    "```SQL\n",
    "select Top 10 CustoemrID, count(OrderID) as OrderNum\n",
    "    from Orders\n",
    "    where Month(OrderDate) = 5 and Year(OrderDate = 2016)\n",
    "    group by CustomerID\n",
    "    order by OrderNum DESC\n",
    "\n",
    "```\n",
    "\n",
    "## Top3 Customer Generating most revenue\n",
    "```SQL\n",
    "select top3 a.CustomerID, \n",
    "    sum(a.Quantity * p.Price) as Total\n",
    "    from (\n",
    "        select CustoemrID, ProductID, Quantity\n",
    "        from Orders o\n",
    "        where Month(OrderDate) = 5 and Year(OrderDate) = 2016\n",
    "        ) a\n",
    "    inner join Product p\n",
    "    on a.ProductID = p.ProductID\n",
    "    group by a.CustoemrID\n",
    "    order by Total DESC\n",
    "```\n",
    "\n"
   ]
  },
  {
   "cell_type": "code",
   "execution_count": null,
   "metadata": {
    "collapsed": true
   },
   "outputs": [],
   "source": []
  }
 ],
 "metadata": {
  "kernelspec": {
   "display_name": "R",
   "language": "R",
   "name": "ir"
  },
  "language_info": {
   "codemirror_mode": "r",
   "file_extension": ".r",
   "mimetype": "text/x-r-source",
   "name": "R",
   "pygments_lexer": "r",
   "version": "3.4.1"
  }
 },
 "nbformat": 4,
 "nbformat_minor": 2
}
