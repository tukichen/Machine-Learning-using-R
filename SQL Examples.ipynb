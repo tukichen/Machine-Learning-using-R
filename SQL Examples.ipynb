{
 "cells": [
  {
   "cell_type": "markdown",
   "metadata": {},
   "source": [
    "# SQL Examples\n",
    "## How to compute a month's profit\n",
    "```SQL\n",
    "select sum(Quantity * Profit) as MayProfit\n",
    "    from (select ProductID, Quantity\n",
    "        from Orders\n",
    "        where Month(OrderDate) = 5 and Year(OrderDate)= 2016 ) a\n",
    "        inner join\n",
    "        (select ProductID, Price-Cost as Profit\n",
    "        from Product) b\n",
    "    on a.ProductID = b.ProductID\n",
    "```\n",
    "\n",
    "## List of top 10 customers with most profit, email and full name\n",
    "\n",
    "```SQL\n",
    "select FullName, Email\n",
    "    from Customer\n",
    "    where CustomerID in (\n",
    "        select b.CustomerID\n",
    "        from )"
   ]
  },
  {
   "cell_type": "code",
   "execution_count": null,
   "metadata": {
    "collapsed": true
   },
   "outputs": [],
   "source": []
  }
 ],
 "metadata": {
  "kernelspec": {
   "display_name": "R",
   "language": "R",
   "name": "ir"
  },
  "language_info": {
   "codemirror_mode": "r",
   "file_extension": ".r",
   "mimetype": "text/x-r-source",
   "name": "R",
   "pygments_lexer": "r",
   "version": "3.4.1"
  }
 },
 "nbformat": 4,
 "nbformat_minor": 2
}
